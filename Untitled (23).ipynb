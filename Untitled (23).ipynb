{
 "cells": [
  {
   "cell_type": "markdown",
   "id": "15e9fff3-81ac-4fdb-a7bd-74f8e5e74b40",
   "metadata": {},
   "source": [
    "Q1\n",
    "\n",
    "Requirement Analysis: Understanding the needs and specifications of the project.\n",
    "Planning and Design: Creating wireframes, mockups, and defining the architecture.\n",
    "Front-End Development: Building the client-side of the application using HTML, CSS, and JavaScript (or frameworks like React, Angular, Vue).\n",
    "Back-End Development: Setting up the server, database, and application logic using languages and frameworks like Node.js, Django, Ruby on Rails, etc.\n",
    "Database Design and Integration: Designing and integrating the database (SQL or NoSQL) with the application.\n",
    "APIs and Integration: Developing and integrating RESTful or GraphQL APIs.\n",
    "Testing: Performing unit, integration, and end-to-end testing.\n",
    "Continuous Integration/Continuous Deployment (CI/CD): Setting up automated testing and deployment pipelines.\n",
    "Deployment: Deploying the application on a cloud provider like AWS, Azure, or GCP.\n",
    "Monitoring and Maintenance: Setting up monitoring tools and maintaining the application post-deployment."
   ]
  },
  {
   "cell_type": "markdown",
   "id": "02e57aac-1a7d-4cce-aceb-fe6aa90d7636",
   "metadata": {},
   "source": [
    "Q2\n",
    "Traditional Web Hosting:\n",
    "\n",
    "Infrastructure: Physical servers managed by hosting providers.\n",
    "\n",
    "Scalability: Limited scalability, often requires manual intervention.\n",
    "\n",
    "Cost: Generally fixed cost, independent of usage.\n",
    "\n",
    "Flexibility: Less flexible in terms of resource allocation and scaling.\n",
    "\n",
    "Reliability: Dependent on the physical server's reliability.\n",
    "\n",
    "Cloud Hosting:\n",
    "\n",
    "Infrastructure: Virtualized servers running on cloud providers' infrastructure.\n",
    "\n",
    "Scalability: Highly scalable, resources can be dynamically allocated.\n",
    "\n",
    "Cost: Pay-as-you-go model based on actual usage.\n",
    "\n",
    "Flexibility: Highly flexible, supports various configurations and services.\n",
    "\n",
    "Reliability: High availability with failover and redundancy mechanisms."
   ]
  },
  {
   "cell_type": "markdown",
   "id": "a42129af-ece2-4743-95a9-c83b5040f4d8",
   "metadata": {},
   "source": [
    "Q3\n",
    "\n",
    "Factors to consider:\n",
    "\n",
    "Cost: Evaluate pricing models and total cost of ownership.\n",
    "Services Offered: Availability of required services (compute, storage, machine learning, etc.).\n",
    "Performance: Latency, speed, and reliability of the provider’s infrastructure.\n",
    "Scalability: Ability to scale up/down based on demand.\n",
    "Security: Security measures, compliance with regulations.\n",
    "Support and Documentation: Quality of customer support and availability of documentation.\n",
    "Ease of Use: User interface and ease of managing services.\n",
    "Geographical Availability: Data center locations and regional availability.\n",
    "Integration: Compatibility with existing tools and workflows."
   ]
  },
  {
   "cell_type": "code",
   "execution_count": null,
   "id": "0ec69647-03a7-4510-9ebd-c5e3b7ccbe44",
   "metadata": {},
   "outputs": [],
   "source": [
    "Q"
   ]
  }
 ],
 "metadata": {
  "kernelspec": {
   "display_name": "Python 3 (ipykernel)",
   "language": "python",
   "name": "python3"
  },
  "language_info": {
   "codemirror_mode": {
    "name": "ipython",
    "version": 3
   },
   "file_extension": ".py",
   "mimetype": "text/x-python",
   "name": "python",
   "nbconvert_exporter": "python",
   "pygments_lexer": "ipython3",
   "version": "3.10.8"
  }
 },
 "nbformat": 4,
 "nbformat_minor": 5
}
